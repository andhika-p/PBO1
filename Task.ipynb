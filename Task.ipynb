{
 "cells": [
  {
   "cell_type": "code",
   "execution_count": null,
   "metadata": {},
   "outputs": [],
   "source": [
    "class Task\n",
    "    def __init__(self):\n",
    "        self.urutan = []\n",
    "\n",
    "    def tambahUrutan(self, diet):\n",
    "        self.urutan.append(diet)\n",
    "        \n",
    "    def getLength(self):\n",
    "        return len(self.urutan)\n",
    "    \n",
    "    def getDetails(self):\n",
    "        print()\n",
    "        for index, i in enumerate(self.urutan):\n",
    "            print(f'{index+1}. tanggalKalori: {i.getTanggal()}')\n",
    "        return f'Total Kalori: {len(self.urutan)}\\n'\n",
    "        \n",
    "    def save(self):\n",
    "        self.urutan[-1].save()"
   ]
  }
 ],
 "metadata": {
  "kernelspec": {
   "display_name": "Python 3",
   "language": "python",
   "name": "python3"
  },
  "language_info": {
   "codemirror_mode": {
    "name": "ipython",
    "version": 3
   },
   "file_extension": ".py",
   "mimetype": "text/x-python",
   "name": "python",
   "nbconvert_exporter": "python",
   "pygments_lexer": "ipython3",
   "version": "3.8.0"
  }
 },
 "nbformat": 4,
 "nbformat_minor": 4
}
