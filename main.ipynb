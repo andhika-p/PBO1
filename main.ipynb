{
 "cells": [
  {
   "cell_type": "code",
   "execution_count": 1,
   "metadata": {},
   "outputs": [
    {
     "ename": "ModuleNotFoundError",
     "evalue": "No module named 'Diet'",
     "output_type": "error",
     "traceback": [
      "\u001b[1;31m---------------------------------------------------------------------------\u001b[0m",
      "\u001b[1;31mModuleNotFoundError\u001b[0m                       Traceback (most recent call last)",
      "\u001b[1;32m<ipython-input-1-f4d235cd520d>\u001b[0m in \u001b[0;36m<module>\u001b[1;34m\u001b[0m\n\u001b[1;32m----> 1\u001b[1;33m \u001b[1;32mfrom\u001b[0m \u001b[0mDiet\u001b[0m \u001b[1;32mimport\u001b[0m \u001b[0mDiet\u001b[0m\u001b[1;33m\u001b[0m\u001b[1;33m\u001b[0m\u001b[0m\n\u001b[0m\u001b[0;32m      2\u001b[0m \u001b[1;32mfrom\u001b[0m \u001b[0mTask\u001b[0m \u001b[1;32mimport\u001b[0m \u001b[0mTask\u001b[0m\u001b[1;33m\u001b[0m\u001b[1;33m\u001b[0m\u001b[0m\n\u001b[0;32m      3\u001b[0m \u001b[1;32mimport\u001b[0m \u001b[0msqlite3\u001b[0m\u001b[1;33m\u001b[0m\u001b[1;33m\u001b[0m\u001b[0m\n\u001b[0;32m      4\u001b[0m \u001b[1;33m\u001b[0m\u001b[0m\n\u001b[0;32m      5\u001b[0m \u001b[0mulangi\u001b[0m \u001b[1;33m=\u001b[0m \u001b[1;32mTrue\u001b[0m\u001b[1;33m\u001b[0m\u001b[1;33m\u001b[0m\u001b[0m\n",
      "\u001b[1;31mModuleNotFoundError\u001b[0m: No module named 'Diet'"
     ]
    }
   ],
   "source": [
    "from Diet import Diet\n",
    "from Task import Task\n",
    "import sqlite3\n",
    "\n",
    "ulangi = True\n",
    "\n",
    "def menu():\n",
    "    return input('''Pilih menu dibawah ini!\n",
    "    1. Tambah konsumsi kalori per hari\n",
    "    2. Lihat riwayat konsumsi kalori\n",
    "    3. Keluar\n",
    "    Masukkan pilihan:''')\n",
    "\n",
    "def fetchDiet():\n",
    "    conn = sqlite3.connect('dietku.db')\n",
    "    cur = conn.cursor()\n",
    "    cur = conn.execute('CREATE TABLE IF NOT EXISTS diet (id INTEGER NOT NULL PRIMARY KEY, tanggal DATETIME, jumlah INTEGER)')\n",
    "    conn.connit()\n",
    "    cur.execute('SELECT * FROM diet')\n",
    "    rows = cur.fetchall()\n",
    "    conn.close()\n",
    "    return rows\n",
    "\n",
    "diet = Task()\n",
    "\n",
    "while ulangi:\n",
    "    pilihan = menu()\n",
    "    \n",
    "    if diet.getLength() == 0:\n",
    "        data = fetchDiet()\n",
    "        \n",
    "        for i in data\n",
    "            diet.tambahUrurtan(Diet(i[1]))\n",
    "    \n",
    "    if pilihan == '1':\n",
    "        tanggal = input('Masukkan tanggal: ')\n",
    "        juumlah = input('Masukkan jumlah: ')\n",
    "        \n",
    "        diet.tambahUrutan(Diet(tanggal, jumlah))\n",
    "        diet.save()\n",
    "        print()\n",
    "    \n",
    "    elif pilihan == '2':\n",
    "        print(diet.getDetails())\n",
    "        \n",
    "    elif pilihan == '3':\n",
    "        ulangi = False"
   ]
  },
  {
   "cell_type": "code",
   "execution_count": null,
   "metadata": {},
   "outputs": [],
   "source": []
  }
 ],
 "metadata": {
  "kernelspec": {
   "display_name": "Python 3",
   "language": "python",
   "name": "python3"
  },
  "language_info": {
   "codemirror_mode": {
    "name": "ipython",
    "version": 3
   },
   "file_extension": ".py",
   "mimetype": "text/x-python",
   "name": "python",
   "nbconvert_exporter": "python",
   "pygments_lexer": "ipython3",
   "version": "3.8.0"
  }
 },
 "nbformat": 4,
 "nbformat_minor": 4
}
