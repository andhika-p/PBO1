{
 "cells": [
  {
   "cell_type": "code",
   "execution_count": null,
   "metadata": {},
   "outputs": [],
   "source": [
    "import sqlite3\n",
    "\n",
    "def createTable():\n",
    "    conn = sqlite.connect('dietku.db')\n",
    "    cur = conn.cursor()\n",
    "    cur.execute('CREATE TABLE IF NOT EXISTS diet (id INTEGER NOT NULL PRIMARY KEY, tanggal DATETIME, jumlah INTEGER)')\n",
    "    conn.commit()\n",
    "    conn.close()\n",
    "    \n",
    "class Diet:\n",
    "    def __init__(self, tanggal, jumlah):\n",
    "        self.tanggalKalori = tanggal\n",
    "        self.jumlah = jumlah\n",
    "        createTable()\n",
    "        \n",
    "    def getTanggal(self):\n",
    "        return self.tanggalKalori\n",
    "    \n",
    "    def getDetails(self):\n",
    "        print(f'''Tanggal: {self.tanggalKalori}\n",
    "    jumlah: {self.jumlah}''')\n",
    "        \n",
    "    def save(self):\n",
    "        con = sqlite3.connect('dietku.db')\n",
    "        cur = conn.cursor()\n",
    "        cur.execute('INSERT INTO diet(tanggal,jumlah) VALUES(?, ?)', (self.tanggalKalori, self.jumlah))\n",
    "    \n",
    "    def update(self, tanggal, jumlah):\n",
    "        conn = sqlite3.connect('dietku.db')\n",
    "        cur = conn.cursor()\n",
    "        cur.execute('UPDATE diet SET tanggal=?, jumlah=? WHERE tanggal=?', (tanggal, jumlah, self.tanggalKalori))\n",
    "        \n",
    "        self.tanggalKalori = tanggal\n",
    "        self.jumlah = jumlah\n",
    "        \n",
    "    def delete(self):\n",
    "        conn = sqlite3.connect('dietku.db')\n",
    "        cur = conn.cursor()\n",
    "        cur.execute('DELETE FROM diet WHERE tanggal=?'. (self.tanggalKalori,))\n",
    "        conn.commit()\n",
    "        conn.close()\n",
    "        \n",
    "        def self"
   ]
  }
 ],
 "metadata": {
  "kernelspec": {
   "display_name": "Python 3",
   "language": "python",
   "name": "python3"
  },
  "language_info": {
   "codemirror_mode": {
    "name": "ipython",
    "version": 3
   },
   "file_extension": ".py",
   "mimetype": "text/x-python",
   "name": "python",
   "nbconvert_exporter": "python",
   "pygments_lexer": "ipython3",
   "version": "3.8.0"
  }
 },
 "nbformat": 4,
 "nbformat_minor": 4
}
